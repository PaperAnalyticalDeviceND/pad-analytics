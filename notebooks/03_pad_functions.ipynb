{
  "cells": [
    {
      "cell_type": "markdown",
      "metadata": {
        "id": "rFL4eOXuKFpC"
      },
      "source": [
        "# Examples of how to explore data available via PAD API"
      ]
    },
    {
      "cell_type": "markdown",
      "metadata": {
        "id": "1S_blOyZOiSm"
      },
      "source": [
        "## Set up the evniroment"
      ]
    },
    {
      "cell_type": "markdown",
      "metadata": {
        "id": "Buou7dm5OoWM"
      },
      "source": [
        "### Step 1: Mount Google Drive in Colab\n",
        "To start, you'll need to connect Google Colab to your Google Drive. This will allow you to access, store, and retrieve files directly from your Drive.\n",
        "\n",
        "Run the code below to mount your Google Drive. After running the code, a prompt will appear asking for authorization—please follow the steps to grant access.\n"
      ]
    },
    {
      "cell_type": "code",
      "execution_count": null,
      "metadata": {
        "colab": {
          "base_uri": "https://localhost:8080/"
        },
        "id": "_NCDZoSfKFCJ",
        "outputId": "63114a25-2e68-4681-84d6-df8fd275e463"
      },
      "outputs": [],
      "source": [
        "from google.colab import drive\n",
        "drive.mount('/content/drive')"
      ]
    },
    {
      "cell_type": "markdown",
      "metadata": {
        "id": "soKtB1zQOr36"
      },
      "source": [
        "### Step 2: Navigate to the `pad-ml` Folder\n",
        "Before we clone the GitHub repository, let's ensure we're in the correct working directory. You need to navigate into the `pad-ml` folder where the repository will be cloned.\n"
      ]
    },
    {
      "cell_type": "code",
      "execution_count": null,
      "metadata": {
        "colab": {
          "base_uri": "https://localhost:8080/"
        },
        "id": "3RcDXw7pO2LE",
        "outputId": "e4138f2c-d555-4a48-8188-5e77eac3e812"
      },
      "outputs": [],
      "source": [
        "%cd /content/drive/My\\ Drive/pad-ml/pad-ml-workflow-v2"
      ]
    },
    {
      "cell_type": "markdown",
      "metadata": {
        "id": "vv6HwtwsO-VX"
      },
      "source": []
    },
    {
      "cell_type": "markdown",
      "metadata": {
        "id": "prVsrwFHPF4B"
      },
      "source": [
        "   ### Step 3: Keep the GitHub Repository Updated\n",
        "   From time to time, the repository might receive updates. To ensure you have the latest version of the project, you can pull the latest changes using the following command:\n",
        "   "
      ]
    },
    {
      "cell_type": "code",
      "execution_count": null,
      "metadata": {
        "colab": {
          "base_uri": "https://localhost:8080/"
        },
        "id": "C9PpKIdvPGlH",
        "outputId": "5dcb756d-2e5a-4f2d-f944-292791166dd4"
      },
      "outputs": [],
      "source": [
        "!git pull"
      ]
    },
    {
      "cell_type": "markdown",
      "metadata": {
        "id": "nvxKq_H3Ql6a"
      },
      "source": [
        "### Step 4: Import packages"
      ]
    },
    {
      "cell_type": "code",
      "execution_count": null,
      "metadata": {
        "colab": {
          "base_uri": "https://localhost:8080/"
        },
        "id": "7JfcMV-9sGph",
        "outputId": "e6c5797e-ac1e-449f-bf97-909ccd14ae7a"
      },
      "outputs": [],
      "source": [
        "!pip install -r requirements.txt"
      ]
    },
    {
      "cell_type": "code",
      "execution_count": 7,
      "metadata": {
        "id": "AanMDuNmPxpy"
      },
      "outputs": [],
      "source": [
        "#\n",
        "import os, sys\n",
        "import ipywidgets as widgets\n",
        "from IPython.display import display\n",
        "import numpy as np\n",
        "\n",
        "module_path = os.path.abspath(os.path.join('src'))\n",
        "if module_path not in sys.path:\n",
        "    sys.path.append(module_path)\n",
        "\n",
        "from src.utils import *\n",
        "\n",
        "\n"
      ]
    },
    {
      "cell_type": "code",
      "execution_count": 7,
      "metadata": {
        "id": "yVTJh3MJ33AL"
      },
      "outputs": [],
      "source": []
    },
    {
      "cell_type": "markdown",
      "metadata": {
        "id": "kDM-l3T3337p"
      },
      "source": [
        "## **Functionalies **"
      ]
    },
    {
      "cell_type": "markdown",
      "metadata": {
        "id": "UqcMphwbPfIB"
      },
      "source": [
        "## ***Projects***"
      ]
    },
    {
      "cell_type": "code",
      "execution_count": null,
      "metadata": {
        "id": "eezj4w6BPg7K"
      },
      "outputs": [],
      "source": [
        "projects = get_projects()\n",
        "projects\n",
        "\n"
      ]
    },
    {
      "cell_type": "markdown",
      "metadata": {
        "id": "QVmE1cUn7WcK"
      },
      "source": [
        "#### **Tips**\n",
        "> Use code generation to manipulate data in projects by clicking the \"**Generate code with projects**\" button in the bottom left of the dataframe.\n",
        "\n",
        "\n",
        "> You can convert the dataframe into an interactive table by clicking the icon in the top right corner next to the dataframe:\n",
        "\n",
        "![image.png](data:image/png;base64,iVBORw0KGgoAAAANSUhEUgAAASMAAABICAYAAAC9ZJMAAAABX2lDQ1BJQ0MgUHJvZmlsZQAAKJF1kL1Lw2AQxp9opWoLdnAQdMhUFGoJNSAIDrVIEYqE2OLHlqZpK7TxJYlfi+jqLP4J4ixiF4ciOKsICk5OUsRN6KCWeG+rplV84d7ndw93x3FAV1BjrOQDUDYdS03OiEvLK6K/hj6EEEAvBE23WVxRUlSCb+189TsIXG/H+azTq5fJfWGY3TxtSdXodO1vfcfrzxm2TvpBIevMcgBBIlY2HcZ5l3jQoqWIDzgXWnzMOdvi82ZNWk0QXxOH9KKWI34kjmTb/EIbl0vr+tcOfPugYWYWSIcoRpBCEiIypGmoiFM2S7/6T4/c7ElgDQzbsLCKAopwaEKcHIYSDOI5mNARRYQ4BolC5rf+fUPP28sDU2GCHc+b3wDORoGBZ88Lv1F+AlxcMs3Sfi4r1H12fiLW4kAF6Dl03ddFwD8GNO5d973iuo0joPsBqNY/Aa//ZO/Y2gvaAAAAVmVYSWZNTQAqAAAACAABh2kABAAAAAEAAAAaAAAAAAADkoYABwAAABIAAABEoAIABAAAAAEAAAEjoAMABAAAAAEAAABIAAAAAEFTQ0lJAAAAU2NyZWVuc2hvdP2lquoAAAHVaVRYdFhNTDpjb20uYWRvYmUueG1wAAAAAAA8eDp4bXBtZXRhIHhtbG5zOng9ImFkb2JlOm5zOm1ldGEvIiB4OnhtcHRrPSJYTVAgQ29yZSA2LjAuMCI+CiAgIDxyZGY6UkRGIHhtbG5zOnJkZj0iaHR0cDovL3d3dy53My5vcmcvMTk5OS8wMi8yMi1yZGYtc3ludGF4LW5zIyI+CiAgICAgIDxyZGY6RGVzY3JpcHRpb24gcmRmOmFib3V0PSIiCiAgICAgICAgICAgIHhtbG5zOmV4aWY9Imh0dHA6Ly9ucy5hZG9iZS5jb20vZXhpZi8xLjAvIj4KICAgICAgICAgPGV4aWY6UGl4ZWxZRGltZW5zaW9uPjcyPC9leGlmOlBpeGVsWURpbWVuc2lvbj4KICAgICAgICAgPGV4aWY6UGl4ZWxYRGltZW5zaW9uPjI5MTwvZXhpZjpQaXhlbFhEaW1lbnNpb24+CiAgICAgICAgIDxleGlmOlVzZXJDb21tZW50PlNjcmVlbnNob3Q8L2V4aWY6VXNlckNvbW1lbnQ+CiAgICAgIDwvcmRmOkRlc2NyaXB0aW9uPgogICA8L3JkZjpSREY+CjwveDp4bXBtZXRhPgpBVJpvAAAbFUlEQVR4Ae2dCYxmRbXHT3+9TvdM9wwMA7LIMiCgPAYXBBd4yBYERXigLAFBeAkY5SVC1GgAlwRli/rASIyEwIC7IaiAhAcq0QCy6IALO4pswzJ77+urX93+f1N9535Lf9PA0HNO535Vt/b6V53/PVX39r1N/f39E+biCDgCjsAbjEDpDa7fq3cEHAFHICLgZOQTwRFwBDYJBJyMNolh8EY4Ao5A00QQh8ERcAQcgTcaAbeM3ugR8PodAUcgIuBk5BPBEXAENgkEnIw2iWHwRjgCjoCTkc8BR8AR2CQQaNmYVmjvWy5lyd/U1FQuWn655Qj3OAKOgCMwiUBDZATh6BgbG4t+uePj47HoUqlkkE9zc/MUlzAnJZ9/joAjkEdgWrf2RUAQDuQzNDRs/UPjNjzWZOPWbNYUDpNFFJ4YmBizko1ZW/OEdbaXrL29LZKTiMpJKT8cfu4IbL4I1E1GEBEkNDo6GkhoyNaGf2kbtbbAPXVuO02MW4sNW3cnpNRuLS3NJlLafOH3njsCjoAQqIuMRETDw8O2rnfQ+kZaghEUiKgBmRgbtq7WUZs3t8Pa2tqckBrA0LM4ArMRgZpklBLR6nWDNjQ+J1hDWoo1CEmwstpLAzZ/nhNSgwh6Nkdg1iFQcwMbMmJphkUkInrokeW2LByNyGn/tU8kM8pa1ztgPd0la21t9U3tRsD0PI7ALEKg6oaPiKi/f8B6w9JMFhFEBCFNR0g/JU+wriiTsiE76nJxBByBzReBipbRlOVZ36iVWsPyLJEle25j0cpJwqp5r7tx2VQyColLYd9pbf+6YBkNT7nLVq0cj3MEHIHZiUBFywhDZXR0LFou1tz5mvV+vNRpAwOD8VEBN45eM5i9YEdgk0eg0DLCKpoIt+JHR0esb3Dcmtp5fmiqbLDsmhpd91lTqdl6B8ess3MkWkcTE9nDknUX4AkdAUdgViBQSEb0jGeKuJU/GsihtaCrkNG5F91WEFM5iKVdkYyOl2JdutVflMbDHAFHYHYjUIWMJmxkZCQ8T9ReiMAnw10x7RmJmO684fRyWogq3Vcq2jNSYp5ZGhkZ8k1sAeKuI7AZIlC4Z5Qt07Jb+s0NPtw4HSypg/2p8fHsf96mk9fTOgKOwOxAoJCM6Bp7RmOBHJrCP7y+1kIdLAup08URcAQ2TwQqLtPinS02sgNJFBHS0oJb9ekekja4cWsJdQT6q5XM4x0BR2AWI1CRjEql8KqPYLGMhr2c1vapzxiBB/tB6YY0pJOeCzOFVSMl6mhr9rtowsxdR2BzRKAiGcV3EQUyGhnor0hG6Qb20oCezgFyOhvYI8MDVupyMtocJ6D32REQAoUbQnoBWmtri40FonitZWwkEF6oS/W+1vV5+Y6AI7DpIVDRMuJdQ63hFR+tpREbCw8/NrdMfdqIZRe36xEtwXReFKY0MUPyQ9mtpfBmpPg6kQ0frkySutcRcARmMQIVXyHC3S1eorZy5UpbsWbIurfcrgxDSkTlwDo87B+lSzmyrF3xvG3Z025bbLFFfOkaJOjiCDgCmx8CFcmIZ41GRkatr6/PXnzxRSt1LrKOOXNnFKHBgV4b73/Z3vKWt1hXV1d5qTajlXhhjoAj8KZAoKoZwqtheUXs/PnzrX/N8vAs0NiMdYqyBtYuD2UvsI6O7DW0/k7sGYPXC3IE3nQIVCQjbSa3tbXavHlzbYueLlu5/OkZISSIaOWLT9uC7q5QNhaRv1ztTTdzvMGOwAwjUJGMqAdCYg8H66inZ771hPdWv/zsozbQt67hZgyE9xdRRk945SxlUra/mL9hOD2jIzBrEKi4Z6Qe6v/U+KdZ3sq4evUqe/mVV625vdvmL9w2fOWjvhfzj44O2+pXX7CxobW2aKuFcXnW2TmnbBX5Ek2Iu+sIbJ4I1CQjYBEh6TNF69ats1Wr18Q7bS3tc21O13yb0zkvPBzZEayc7PY8S7GRoUHDEhroW22jQ73xjtmC+T02d+7caBGlH3ikDu7g6W4a5/gJE1GpHYQrPm2fhjAfl5ZJWcQrH67K8/od/3Su4Pf5V5/+SUejYjX4UxcZUbaIgMHhPUfc9u/r67fevl7r6+0LYSM2HpVc/2OWfTm2vb3Vujq7IgF1dXVGS4hnilpaskec6IQGXBMh7YuIg7A0LeeKE5lwThqlKyqPuhDlwe/1ZxOuCC9hDE7CFRdRnLB0/H3+1dK/OHEq/FR86DGfXpXgZh9hbAluh83rnmcjgZzGxvive4goIyPOIRwmakt4urqlORyTH27EIkIgAeLTc8rna7WIJrnqjoHhh3qIIx15cUmjMFwRDGlFQKRRXsK8fsefueLzb70+bqz+pXqHvqJvlFmP1E1GKkxKzyBCNm3jbTbe0REqJcX6pVbWKPbHIQ6+HpuRBY1DRAy4+joIZarxSocr0pCrMCaROo/LgSivzgWGyidefq/f8ff5l32dJ9UJ6ZB0jTj0SWnw5/UvzSP9lj5KB6OCVvipe5lWIb8NDocntUfMhkfDy9hGAiGEhDSqGUslEG5r84R1dgSrqCTLKYtXY3HpINYNLhLzT1o8+CE9WUtpPJNI+QFHHSaPQEvz41d+xSu/1+/4+/ybvv6BGYf0D31CzyAq6Vuqa1EBK/w0TEYDQxPhZf3hKe3J5yDFmrg0ArcFQgkuit7RVrI54cZbRzg06ISLQEQSuOoc5UBEuBAPzyNRrtIqL+kpS0xNeg4BojjlIxzx+h1/zSHNDVyffxm51Kt/6BO6hK5KP8Ex1TPikBTvGJD8TJuMwssfbU3fRLCIMiuDsmgIA0jjg10T/Fnj8BPH62RLMGb4w1LqDl8+Cqu2mJ7GiTjoCAdh68srTqc8lI8/TZ+CInBETKTlUL1yiff6HX+ff9PTP/CSLkqvuEElv1wRk84TDip7p0VG4TXVtqo3fMIo918hVCDhlj7nBA0PD4Vnk/rCBndYxwUhDuUP989sfnh/EQZKmpc0xCP5TsbA8KPOEC+2xY+QN/Urberqqqd6YsbkR+Fe/9RJJoiEpeO/ec8/5oH0T3NCBgErmHnzwqM+wSUMSV3mjs41r2Ka9KSaH4uoiIik/OTFSgmUEImIZdVAeDFbT8ewzQ/fRFvQNWoLu8226mkKRMQSaj0RSfFVP+WkTEpnEVx1gnjqyOrMclIOZCJSIi0H+QQYcfJnudYTn869fsff51+2lSHdQTfwS/9weRAaHUTv0Jn4abOo9wO2Zs2aqE7SRemmyomRuZ+6LaNVvVOXZg89sdaWPbEmKP76O2DjY6NZ8UHheU9R37qVdtbRW8dG5+r1U0fAEZilCOj7hwsXLozWkwwEuosfIoOcRGyCoa5b+2xWp3tES3/zvC39zXOTZWB1sExieRUsGKyQ8YyUxoZW238ftVB1uesIOAKbAQLpzSasJcgJgXywripJtqCrFDsZzl2zYtHyB5MuIyJc2C8sfiIxFefzUEfAEZitCMjyEfFoqYebcUNmIeX7X5OMhkbW377PZ+acZVqZiAIJnXToNrbX4nmRiAJVlfd+ivIqbHBwsLzGVNibwf3Xv/5lr7zyygZNpT9//vOfNwivN4AyKXumhCvVww8/bE8//fRMFfmmKGdjx+H16OSDDz5otPP1kkpzlvqrxU23fewhQT4Qk/Z15VKWiCottw4ySpPn/BhMLNEmDaclu3bbqUdsb3sv7g6VEZ41KJerfNrf32/f/va37bzzzrMLLrggHv/+97/L8W+EZ9myZfaPf/yjsOrnn3/e7rrrrnLc7373O/vb3/5WPpeHdD/96U/Lg6Dwel3qv/POO6smx/y98cYbCwc1n/FnP/uZ/fKXvwxvXFidj3rdzvPYvR4V1zsO1cZ8ptuZ1sUGMPNk+fLa3xas1Y568a00Zym/Wlyt+tN4rB+Ih0N7Q7jcFICEuDjKQkrz1SQjnqyuKGE1hvWTsRFLtux2cEZEWT4aUUmuvfba2KhvfvObkZTe85732He/+92GlbhSPdMJf+SRR+zxxx8vzPLSSy/ZfffdVxiXBi5evNguueSSuqzCNN90/JDR7bffXn6UoVreZ555xj72sY/Zu971rmrJXtO4erGbyUbUOw7Vxnwm20NZaV3c+r700kttp5122uhq3gh8KzUawpHei5BERLKWICOlUTk1N7ADuRULlk9Yon3yiB3sk0dub+deESyEQDyxgoS/eBYBxcnL2rVr7a9//atdfPHF1t0d7vkH+ehHPxpN1hUrVtiiRYvspptusnvuuSfGve9977Njjjkm+q+77rqo6FgQdOqII46wAw44IBLaYYcdZnvttVdMd9lll9nRRx9tO+64oy1dujRaPJT7iU98wnbddVf7wx/+EC2bl19+Ob7e5O1vf7vdfffdsUyuNJ/5zGdiOfxgwl5//fWxfV/84hftoosuinFPPvmk3XHHHeF5qn475JBD7CMf+Ui80l1zzTX25S9/2egn7WWJxLMXJ510ku25557lcvEwQFwh//SnP8U0O++8czkeS5F6eQ/51ltvbaeffrrtsMMO9vWvfz2m+dKXvmRnnnmmbbfddrGexx57LL4hgX7vv//+dtVVVxllQPwHHXSQvfvd745+XiX8xBNP2He+8x2799577Ve/+pX19vba2972NvvUpz4V30n+la98JZ7ff//9cTwOPfTQaGHR18MPP9w+/OEPxzaw1Lj55ptjXyn/xBNPnHKnpAg7ro7ggnIuWLDAjjrqKONilJdqbQNHLg7gctxxx8UxTfNjcWgcGGvmC3Pr1Vdftfe+972xnVig+TFn7H/0ox/Zc889ZxAamDNHaS/zmzYz1h/4wAcKMacNDzzwgN1yyy22atUq23333e3UU0+N45uv62tf+5p99rOftT/+8Y9x3jFuyC9+8Ys4BmDcCL4vvPBC4byh7H/+85/RCuJVQMIhb6lUwoD8tYSyOJjXekRC1hB8oKWb4lReTcuI54sKhb0iCCnIWLilz6OMoQWxovGwPMM/ER5ypBFF8uyzzxq3/np6esrRNPKEE06IE59B+8tf/mIoPgd+whA+EsCV4Pzzz4/EwnIFBt5jjz0MxUEAkzSQDssUrkIQH0qEgpIekoQkTjvtNPv0pz8dJ9j73/9+O/jgg6cQEeXtFK5eTKhddtklWj164IuJDSGcffbZZYWkbEgIQQmo+1vf+pZ9/OMft0cffTSGpz9MRBSFpeo555wzxTL7+9//HkmE/CgfSo9ceOGF0cWqZLI/9dRTtu2229rll18eMYHcmAz0a/vtt7ezzjorEjNtA/t999034iHlgtCw5ti/gAAQnhWBQLl6o4y//vWv41hQJopGWRD5D3/4w4gNBIkCY+6nUoTdj3/84zhXGBMI+oYbbojjlear1TbG4Bvf+EYkzNtuuy3NGv3pODDWkC/9ZLyYJ5AkpJIf8+9973tRSen3NttsE9tGgcw7jTfEXAlzMKE/zGXax7y+9dZbC+tintBPLqC68NJuSJawRvGtNG/oB5Y/BMh8Yz4y//JSCYN8uqJz+gMZ4aL/uBAPOCD0j3PcVGqSUZp4Q39GQM3h9SBxaTa5eRSJKRDSsf+5bWzUhvksNlIKXRTPFf6DH/xgtFj4jBF+wiQwemdnpy1ZsiTWwaDtt99+caMWALiaoHB0GhJjMnIVhKCYVFw5EBQcZanWFtVZ5GIJ8LI4CIF2cuVNhS+fMOA///nP42DoypemQUmw7Mi/1VZbReVQPMTIrVHaTv/ZiC4ScMCqgQhQkoGBgUKLlLxcAMCvI7xtgQly7LHHRjx++9vfGpYeGEmwSKkfC4E+QkrUA8a804r0WEpYC7///e8jgemCoDKKXBQCK5Y2UB4XDcpKpVbbmBPkZ5xZitYSLlZYUWC82267Febh5gFjiJWIxQuOKebggSXHvKqEOX0DL+pjjnIhwBqvJqRnDmK1gAMXASzgRvGtNm8gX1YI0qv8tkQtDKr1gziIiPkh8uEc4sFFuEgiOo8n4afmMo3/ISuyjiYC2WQPPK7fE6IS/YWq7OgDFsUG5RmQygEaM5orMRNKgsKx5CCPOkMc/rQcrA0JfuoGXJZkWBnczTrjjDOUxLbccss4iQjApNfSkEm1MVLUjrQ89mkY+IceeihaaFiDWD+p5PuatumKK66I+Oy9997RwpHFlebHz5KWOlAWFK6apMSLqc5SAYV+61vfGhU1rT/1p+Oh8pl0CAqKHHTQQfHTU/Gkyg99TsvGzxU0lVpt0/MruJrgaf68Pz9W+XjONcfUH+YJlqXKT7GrhDlpi7Aqqi8NgyS4iHLhZByRRvGtNm/yuKvPaovOizDIE4jypC79Jx2u6tL4gp/KEKbKW9MyqqSr2S39bG2YNR5/KVZUYgk3ubGdn2CqGOLgasg6XLc22TNhCUXDuVKwXCBOSwfS1xL2SVhC0GGUC3nnO98ZJzpx73jHOyIJphMzLZMXx7HOLxImPXekNFhFafJhmMBYYeyJnHzyyYVXY5Z+6itWhjbJwY4r/pFHHmkHHnhgnODs9SAaVD6yiZAOa4dlaKowMbLKD1dBJsXxxx8f92zooyZQlWzlKNrON+8YG5Rpzpw55SVqOVHw5LFjfFnC0kcuSlydKSuVjW1bWlY1fzrmXDjoDxdI+sMyjQuAFCgtpxLm9ANrl60C+sc2AXtySFpXWhZ+LHu2I7ioMJZII/hWmzeUyfxinmHZMu/yuFfDgHzaLqGsImH+iGikK3IJV1yesGtaRm0tTTZSeEctmEyh4IeezL4U8nBw/2Nxp91w2/P28FPslzTZTXctt/85YXFF5cV8/cEPfmCf//zn42SFIAhjQqN8bLyyvkf22WefuJSJJwU/mixYIj/5yU+i8isZexKQHI8QAATLA8xnRPmUlvxXXnll3Az/3Oc+p+DospxA0QlnDwfJ58+fY+XRR66iXOVQ+rxgTWCOf+ELX4iTdeedd45JGCzIhU1mlEPhRHLOhP3qV78aLS32Pq6++uq4nGMJUq9gSUIM1E2ZLGGKJN8vnWM1QJbsr6AEkCX7Z3nJY8eYfP/737dzzz03YsrNC7BKpd62kUftSfPn/Wma1J8fc9p/bdjwZ9+H8T7llFPyRcXzSpjTD5a+jBu377FUmddIvq4YOPnDBRrLGT2Q5d4ovpXmDVXRHuYNF3lu2nzoQx8qNwNcmHeVMICA2Y9EH6VD5cyTHuYB5eCmVqsukuggcbjpha/m/6bx0OPKdVN3sbN/B3k2klGYBqFQzGvSBNbjX0FCJRPjw+El/Gvs//53v7KpmW+0zgGFtbnMQoXjykxVR9K46fqph4FOASgqowioNB1tmm57uKJAsqkSpGXixzynbfn2MaEZOAY2L2lbuPqQFlKZrtSLTaVyaR9l0MdqkraXdFyd6Vc1XDa2bdXao7iiMWdOgmW1tlXDHEzoX348iupSOyq5jeBbbd7QbsYCS62aFGFA+/NWTVoGOsZ8h/Skb7gIWKI7RZjWtIzaW5viO4j0EjUKXLIrT1jHkvnJ/ERECedNIbKpOcRkyzjFVHIZrPyAKe10lV75itxKdeTTVgOatI20qdJVJK27iGyI10CmaeVP21JEZEpXy60Xm0rlMLlqERF50/ZyXksZSLOxbaOMWlI05vX0pxrmYFLU9qK6arWvEXyrzZtq7U7bUoRBrfZDnIwz6aiHtkNgtIc4/IQhaVk1yYgMXR1Ntjq8UE2yZLfu8GzRDuG/9nmil0KxhLCOgukV3PhOo2AhDfYOKYu7joAjsBkhINLBhXA4ICHICUlJSLDUXKYpYf4VIlTCAcHxJRCx31gw/cbGRuNyYcWKV23bhW0V94xUtruOgCMwexCAcFgCsv+IhcRBGASEq2WerCP1vObdNCXs6QprveQuOAVReOCjyQqyB5iwn0qhwqwBdRevatx1BByBNzEC4gWWp/ADh0gH44W9KtwiqWuZRkaeN1owtzTlbY9ZoZmFVCrBeDwbxJPXcQ87EBKvnZy6b0TjtGbElaQNxq+DxsufWWLZ+lPlKIw08lOm/ApXPcpHuNfv+GteMB+QdN4Q5vNv+vrHQ8VYRegaBzjKxTISxsJebt3LNGXgAcj0hfwUrMIZOJZouOPhGAmm2rq1a8IdhcHQoFIw3UasLdBfZ3soJDAWZIAFhUsZuOoAZh6d0EGZCPES4siHEK4yFCaTkHOBoLyEcah+wr1+x9/nX0YglfQPPUKkl/jBDD0iDFefr9fNCeK1ma586B7hqUybjJRZnyriv/rj5nW4sFABXwIJvvKrZukUJNQS7rC1No+GTxVlBIPi0zBdeSiXxomYKEsNF0koDJd8dBy/wilDeYgXAaV1UQcHeXBVP/m8fsff55/evFGsf9Id9CYlGMI50EkOhHjCEFywRSell+hcKg2TEYWg0MPhsaKBofHwWtpgFQViGgth3GHjn2QnxrGEmqwtPGIQ7KJIFOTR8w80Fj8NTUmBNDSYxhJP50QoxCHE4cfVBFI45RFHOH6Vj0t6CBKhfvyKJ07lev2OP3PB51+x/qEz6BiuBD96g76CHSJyEhERLkNB+eRuFBmpELlUkhIDjSWMQwovkqBRqSmozlGW0qsD5NEhVuWcMtKDfIQjAimfjzjlJb3ye/3Z5AIfxz+brz7/1r8QLa9HnKMzHOgQegle0idISDrInOLCL72TS3gqG01GqUKrYJGMyIHKaSiHGkKjEdLQEeVRB0jHgRCvdJSBkI48iACQS1riBQ5p0vKIS9N6/Y6/z79s5TId/UPPEPKkB7qGTuFK12LCyR/iimSjyYhCpei4iEiA89Sv+Hx6Gkc6jhQMwumwiEv5SINfHSWfyqZ+xRX5KUtp5Xr9jr/Pv8b0Dx0EO0QXePwp4eCX3kmXSZOXGSEjCkWxpdw0kCuNSEPhpINcOBcBEEZnaCTpUyFMHSVc5+qQyk3rIY6yVX++PLG5158REPg4/j7/0JtG9Q9dki5SDks09IxwRPoaT6r81P2cUZUyYhQVcuTJg0bqUJq08QBA4xEphQhD6fMuackH4YhUOMdPGEIewqg73ybCJfi9fsef+eDzb/0dbvDI653OiUNv0DV0B9ykR4SJmEiHSJ9FTlnohr8zZhmpaDVMA5s2jM6ImNLO0FjCCZPonHJSP2k4R0RElEs6CWlUv8JwlVflCUyv3/HXnNB80bnPv/r0TzqZ6hl6KUn9Csu7M05GVMAA5hWfxoowNNC4NJK0EAIuonhNBJFOjJyMlxWk/KRVh5Ufl0P58SNpvPJ7/Y6/z7/G9Q+dKtI/hUXFq/Hz/0FFbPoLPj20AAAAAElFTkSuQmCC)\n",
        "\n"
      ]
    },
    {
      "cell_type": "markdown",
      "metadata": {
        "id": "Su70qvSN55Ss"
      },
      "source": [
        "#### **Tips: Returns only the columns that are specified in a list**\n",
        "\n",
        "> This is helpful when you want to focus on or analyze only certain parts of your data, making it easier to work with large datasets by filtering out unnecessary information."
      ]
    },
    {
      "cell_type": "code",
      "execution_count": null,
      "metadata": {
        "id": "Qw8yYND733fB"
      },
      "outputs": [],
      "source": [
        "columns = ['id','project_name','sample_names','notes']\n",
        "projects[columns]"
      ]
    },
    {
      "cell_type": "markdown",
      "metadata": {
        "id": "fW-Sl1s25KVE"
      },
      "source": [
        "#### **Tips: You can also get information from a specific project specifing its `project id`**\n"
      ]
    },
    {
      "cell_type": "code",
      "execution_count": null,
      "metadata": {
        "id": "RjHzSCa2-XxA"
      },
      "outputs": [],
      "source": [
        "project = get_project(project_id = 11)\n",
        "project\n"
      ]
    },
    {
      "cell_type": "markdown",
      "metadata": {
        "id": "ZDwlsY6X9seo"
      },
      "source": [
        "## ***Card issue types***"
      ]
    },
    {
      "cell_type": "code",
      "execution_count": null,
      "metadata": {
        "colab": {
          "base_uri": "https://localhost:8080/",
          "height": 0
        },
        "id": "BA7rnqpu-EZm",
        "outputId": "98aa4cf3-37e7-4302-e7a9-ccc9d01c7f16"
      },
      "outputs": [],
      "source": [
        "issue_types = get_card_issues()\n",
        "issue_types"
      ]
    },
    {
      "cell_type": "markdown",
      "metadata": {
        "id": "KG3M03PQ_NJ6"
      },
      "source": [
        "## ***Cards***"
      ]
    },
    {
      "cell_type": "code",
      "execution_count": null,
      "metadata": {
        "id": "De4g-jNY_Ktq"
      },
      "outputs": [],
      "source": [
        "\n",
        "card_info = get_card(card_id=1234)\n",
        "card_info\n"
      ]
    },
    {
      "cell_type": "markdown",
      "metadata": {
        "id": "iy63nX5fA6CK"
      },
      "source": []
    },
    {
      "cell_type": "code",
      "execution_count": null,
      "metadata": {
        "id": "-NJCNVfXcsyt"
      },
      "outputs": [],
      "source": [
        "show_card(42279)"
      ]
    },
    {
      "cell_type": "code",
      "execution_count": null,
      "metadata": {
        "id": "duGRLFIj8AZ5"
      },
      "outputs": [],
      "source": [
        "show_cards([21027, 42279])"
      ]
    },
    {
      "cell_type": "code",
      "execution_count": null,
      "metadata": {
        "id": "jNBTZ4NT8OKx"
      },
      "outputs": [],
      "source": [
        "card_samples = get_card_samples(sample_id = 53714)\n"
      ]
    },
    {
      "cell_type": "code",
      "execution_count": null,
      "metadata": {
        "id": "mobQT2WR8PfZ"
      },
      "outputs": [],
      "source": [
        "show_cards_from_df(card_samples)"
      ]
    },
    {
      "cell_type": "code",
      "execution_count": null,
      "metadata": {
        "id": "cl-0JYsq-sjT"
      },
      "outputs": [],
      "source": [
        "project_id = 12\n",
        "df = get_project_cards(project_id)\n",
        "show_grouped_cards(df, 'sample_name')"
      ]
    },
    {
      "cell_type": "markdown",
      "metadata": {
        "id": "x7hcQh9K7e0c"
      },
      "source": [
        "Example: Group by 'quantity' or 'camera_type_1'"
      ]
    },
    {
      "cell_type": "code",
      "execution_count": null,
      "metadata": {
        "id": "1PMpJki-7bkk"
      },
      "outputs": [],
      "source": [
        "\n",
        "# create_tabs(df, 'quantity')\n",
        "# create_tabs(df, 'camera_type_1')"
      ]
    },
    {
      "cell_type": "code",
      "execution_count": null,
      "metadata": {
        "id": "gRQrSHkM_Drh"
      },
      "outputs": [],
      "source": [
        "# List of project IDs\n",
        "project_ids = [11, 12]\n",
        "\n",
        "# Fetch cards for all the projects\n",
        "cards = get_project_cards([11, 12])"
      ]
    },
    {
      "cell_type": "markdown",
      "metadata": {
        "id": "HRgXME8H7juy"
      },
      "source": [
        "Advanced selections"
      ]
    },
    {
      "cell_type": "code",
      "execution_count": null,
      "metadata": {
        "id": "KzsrfPOt_YI_"
      },
      "outputs": [],
      "source": [
        "\n",
        "df = df[df['issue.name'].isin(['Leak', 'Rectification', 'Stuck']) ]\n",
        "\n",
        "leak_df = df[df['issue.name'] == 'Leak']\n",
        "rectification_df = df[df['issue.name'] == 'Rectification']\n",
        "stuck_df = df[df['issue.name'] == 'Stuck']\n",
        "\n",
        "print(f\"Leak: {len(leak_df)}\")\n",
        "print(f\"Stuck: {len(stuck_df)}\")\n",
        "print(f\"Rectification: {len(rectification_df)}\")\n",
        "\n",
        "\n",
        "\n"
      ]
    },
    {
      "cell_type": "markdown",
      "metadata": {
        "id": "uafEIWTBBw4A"
      },
      "source": [
        "## ***Neural Networks***"
      ]
    },
    {
      "cell_type": "code",
      "execution_count": null,
      "metadata": {
        "colab": {
          "base_uri": "https://localhost:8080/",
          "height": 1000
        },
        "id": "8bvQKFFVNItW",
        "outputId": "3225c2ee-2821-4958-aca3-80f1e12e4ad3"
      },
      "outputs": [],
      "source": [
        "get_neural_networks()"
      ]
    },
    {
      "cell_type": "code",
      "execution_count": null,
      "metadata": {
        "colab": {
          "base_uri": "https://localhost:8080/",
          "height": 153
        },
        "id": "eNQvI8zb7wFA",
        "outputId": "f2d53373-946b-464e-a628-ccb049141998"
      },
      "outputs": [],
      "source": [
        "get_neural_network(17)"
      ]
    },
    {
      "cell_type": "markdown",
      "metadata": {
        "id": "q28rRG618R3T"
      },
      "source": [
        "### Get Model Weights"
      ]
    },
    {
      "cell_type": "code",
      "execution_count": 13,
      "metadata": {
        "id": "GhtDS6uiG5kb"
      },
      "outputs": [],
      "source": [
        "# import os\n",
        "\n",
        "model_source = get_neural_network(17).weights_url.values[0]\n",
        "\n",
        "# Extract the filename from the URL\n",
        "model_filename = os.path.basename(model_source)\n",
        "\n",
        "# Create the full path where the model will be saved\n",
        "model_file = os.path.join('./models/', model_filename)\n",
        "\n",
        "# # Download the model and save it in the ./models/ folder with the original name\n",
        "!wget {model_source} -O {model_file}"
      ]
    },
    {
      "cell_type": "markdown",
      "metadata": {
        "id": "jdIf_zdj8Npv"
      },
      "source": [
        "### Inference"
      ]
    },
    {
      "cell_type": "code",
      "execution_count": null,
      "metadata": {
        "id": "CJcvK6mV8NEk"
      },
      "outputs": [],
      "source": []
    },
    {
      "cell_type": "code",
      "execution_count": null,
      "metadata": {
        "colab": {
          "base_uri": "https://localhost:8080/",
          "height": 36
        },
        "id": "rPKYPB2ZQugG",
        "outputId": "e653ade8-1cf2-43d5-8b4c-0e7e434b1ecb"
      },
      "outputs": [],
      "source": [
        "model_file"
      ]
    },
    {
      "cell_type": "code",
      "execution_count": null,
      "metadata": {
        "id": "Jcd-rT3NQ095"
      },
      "outputs": [],
      "source": [
        "card_info = get_card(42279)\n",
        "show_card(42279)"
      ]
    },
    {
      "cell_type": "code",
      "execution_count": null,
      "metadata": {
        "colab": {
          "base_uri": "https://localhost:8080/"
        },
        "id": "VowuveFHQY4B",
        "outputId": "6abdefd5-e0ab-43ef-f13a-af4fbc54118c"
      },
      "outputs": [],
      "source": [
        "#Load png file using the PIL library\n",
        "#img = Image.open('fhi360_data/catagorize/16_7062.png')\n",
        "image_url = 'https://pad.crc.nd.edu/' + card_info['processed_file_location'].values[0]\n",
        "actual_label = card_info['quantity'].values[0]\n",
        "\n",
        "labels = ['0', '100', '20', '50', '80']\n",
        "\n",
        "# Read the image from the URL\n",
        "img = read_img(image_url)\n",
        "\n",
        "#crop image to get active area\n",
        "img = img.crop((71, 359, 71+636, 359+490))\n",
        "\n",
        "#for square images\n",
        "size = (454, 454)\n",
        "img = img.resize((size),Image.BICUBIC)#, Image.ANTIALIAS)\n",
        "\n",
        "#reshape the image as numpy\n",
        "#im = np.asarray(img).flatten().reshape(1, HEIGHT_INPUT, WIDTH_INPUT, DEPTH)\n",
        "\n",
        "HEIGHT_INPUT, WIDTH_INPUT, DEPTH = (454, 454,3)\n",
        "\n",
        "#reshape the image as numpy\n",
        "im = np.asarray(img).flatten().reshape(1, HEIGHT_INPUT, WIDTH_INPUT, DEPTH).astype(np.float32)\n",
        "\n",
        "# Load the TFLite model and allocate tensors.\n",
        "# model_file = 'lite_models/' + arch + experiment + '_v1p0'\n",
        "\n",
        "interpreter = tf.lite.Interpreter(model_path=model_file)\n",
        "interpreter.allocate_tensors()\n",
        "\n",
        "# Get input and output tensors.\n",
        "input_details = interpreter.get_input_details()\n",
        "output_details = interpreter.get_output_details()\n",
        "#print(\"input\", input_details[0])\n",
        "\n",
        "# Test the model on random input data.\n",
        "input_shape = input_details[0]['shape']\n",
        "#input_data = np.array(np.random.random_sample(input_shape), dtype=np.float32)\n",
        "interpreter.set_tensor(input_details[0]['index'], im)\n",
        "\n",
        "# predict\n",
        "interpreter.invoke()\n",
        "\n",
        "# result\n",
        "result = interpreter.get_tensor(output_details[0]['index'])\n",
        "# print(\"Result\", np.argmax(result[0]), result[0], tf.nn.softmax(result[0]))\n",
        "\n",
        "num_label = np.argmax(result[0])\n",
        "print(\"Prediction: \", labels[num_label])\n",
        "probability = tf.nn.softmax(result[0])[num_label].numpy()\n",
        "print(\"Probability: \", probability)\n",
        "\n",
        "# energy\n",
        "energy = tf.reduce_logsumexp(result[0], -1)\n",
        "print(\"Energy: \", energy.numpy())\n",
        "\n",
        "# expected_label =\n",
        "print(\"Actual label: \", actual_label)"
      ]
    }
  ],
  "metadata": {
    "colab": {
      "collapsed_sections": [
        "1S_blOyZOiSm",
        "soKtB1zQOr36",
        "UqcMphwbPfIB",
        "ZDwlsY6X9seo",
        "JjDjMDsrBqCJ"
      ],
      "provenance": []
    },
    "kernelspec": {
      "display_name": "Python 3",
      "name": "python3"
    },
    "language_info": {
      "name": "python",
      "version": "3.11.8"
    }
  },
  "nbformat": 4,
  "nbformat_minor": 0
}
