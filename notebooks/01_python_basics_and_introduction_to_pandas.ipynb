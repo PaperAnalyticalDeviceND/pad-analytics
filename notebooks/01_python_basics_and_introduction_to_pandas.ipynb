{
  "cells": [
    {
      "cell_type": "markdown",
      "id": "6ac23b29",
      "metadata": {
        "id": "6ac23b29"
      },
      "source": [
        "\n",
        "# Python Basics for PAD Project Data Exploration\n",
        "\n",
        "Welcome to this introductory session on using Python to explore data from PAD projects. In this notebook, we will cover:\n",
        "\n",
        "1. [What is a Jupyter Notebook?](#what-is-a-jupyter-notebook)\n",
        "2. [Variables and Assignment](#variables-and-assignment)\n",
        "3. [If-Else Statements](#if-else-statements)\n",
        "4. [For Loops](#for-loops)\n",
        "5. [Functions in Python](#functions-in-python)\n",
        "6. [Importing Libraries and Functions](#importing-libraries-and-functions)\n",
        "7. [Introduction to Pandas](#introduction_to_pandas)\n",
        "8. [Reading and Saving CSV Files with Pandas](#reading_and_saving)\n",
        "9. [Next](#next)\n",
        "\n",
        "By the end of this session, you will be familiar with the basics of Python and ready to work with data using custom Python functions.\n",
        "\n",
        "\n",
        "\n",
        "\n"
      ]
    },
    {
      "cell_type": "markdown",
      "source": [
        "<a id=\"what-is-a-jupyter-notebook\">\n",
        "</a>\n",
        "\n",
        "## 1. What is a Jupyter Notebook?\n",
        "\n",
        "A Jupyter Notebook is an interactive coding environment that allows you to write and execute code, display output, and write explanations all in one place. It is widely used for data analysis, scientific computing, and machine learning because it lets you see the results of your code immediately.\n",
        "\n",
        "### Key Concepts:\n",
        "- **Cells**: Jupyter notebooks are made up of \"cells\". There are two main types of cells:\n",
        "    - **Code Cells**: Where you write Python code that can be executed.\n",
        "    - **Markdown Cells**: Where you write explanations, descriptions, and formatted text (like this cell you're reading).\n",
        "\n",
        "- **Running Cells**: To run a code cell, click on the cell and either:\n",
        "    - Press `Shift + Enter` (the cell will execute, and the cursor will move to the next cell).\n",
        "    - Or press the \"Run\" button at the top.\n",
        "\n",
        "### Example: Let's try running a simple code cell."
      ],
      "metadata": {
        "id": "jNSiosiaC6QM"
      },
      "id": "jNSiosiaC6QM"
    },
    {
      "cell_type": "code",
      "execution_count": null,
      "id": "1cf10b1c",
      "metadata": {
        "id": "1cf10b1c"
      },
      "outputs": [],
      "source": [
        "# This is a code cell. You can execute this code to see the result.\n",
        "print(\"Hello, Chemistry World!\")"
      ]
    },
    {
      "cell_type": "markdown",
      "source": [
        "When you run the cell above, the output should appear directly below it. You can modify the code and run it again to see different outputs.\n",
        "\n",
        "Jupyter Notebooks also allow you to combine code and explanations, making it easier to follow along and document your work.\n",
        "\n",
        "In this notebook, we will use both code cells and markdown cells to learn Python basics."
      ],
      "metadata": {
        "id": "KutzfoMsEx51"
      },
      "id": "KutzfoMsEx51"
    },
    {
      "cell_type": "markdown",
      "id": "9f735a7c",
      "metadata": {
        "id": "9f735a7c"
      },
      "source": [
        "<a id=\"variables-and-assignment\"></a>\n",
        "\n",
        "## 2. Variables and Assignment\n",
        "\n",
        "In Python, we use variables to store data. You can think of a variable as a container that holds data, like numbers, text, or lists.\n",
        "\n",
        "Let's see how we can assign values to variables.\n",
        "\n"
      ]
    },
    {
      "cell_type": "code",
      "execution_count": null,
      "id": "7f0bde0f",
      "metadata": {
        "id": "7f0bde0f"
      },
      "outputs": [],
      "source": [
        "# Assigning values to variables\n",
        "a = 10  # This is an integer variable\n",
        "b = \"Water\"  # This is a string variable\n",
        "c = 4.5  # This is a floating-point variable\n",
        "\n",
        "# Print out the values of the variables\n",
        "print(\"Integer value:\", a)\n",
        "print(\"String value:\", b)\n",
        "print(\"Floating-point value:\", c)"
      ]
    },
    {
      "cell_type": "markdown",
      "id": "47b772b0",
      "metadata": {
        "id": "47b772b0"
      },
      "source": [
        "<a id=\"if-else-statements\"></a>\n",
        "\n",
        "## 3. If-Else Statements\n",
        "\n",
        "In Python, `if-else` statements are used to make decisions. You check a condition, and if it's `True`, one block of code is executed; otherwise, a different block is executed.\n",
        "\n",
        "### Example: Let's check if the temperature is above 30 degrees.\n"
      ]
    },
    {
      "cell_type": "code",
      "execution_count": null,
      "id": "2ddd198f",
      "metadata": {
        "id": "2ddd198f"
      },
      "outputs": [],
      "source": [
        "temperature = 25  # Assign a temperature value\n",
        "\n",
        "if temperature > 30:\n",
        "    print(\"It's hot outside!\")\n",
        "else:\n",
        "    print(\"It's comfortable outside.\")"
      ]
    },
    {
      "cell_type": "markdown",
      "id": "85bd9dab",
      "metadata": {
        "id": "85bd9dab"
      },
      "source": [
        "<a id=\"for-loops\"></a>\n",
        "\n",
        "## 4. For Loops\n",
        "\n",
        "A **for loop** allows you to repeat a block of code for each item in a list or range. This is useful when you want to apply the same operation multiple times.\n",
        "\n",
        "### Example: Let's use a for loop to print numbers from 1 to 5.\n",
        "\n"
      ]
    },
    {
      "cell_type": "code",
      "execution_count": null,
      "id": "b8d8d3dd",
      "metadata": {
        "id": "b8d8d3dd"
      },
      "outputs": [],
      "source": [
        "# A simple for loop\n",
        "for i in range(1, 6):\n",
        "    print(\"Step\", i)"
      ]
    },
    {
      "cell_type": "markdown",
      "id": "aceb7850",
      "metadata": {
        "id": "aceb7850"
      },
      "source": [
        "<a id=\"functions-in-python\"></a>\n",
        "\n",
        "\n",
        "## 5. Functions in Python\n",
        "\n",
        "Functions allow you to reuse code. A function takes inputs (called **arguments** or **parameters**), does something with them, and returns a result.\n",
        "\n",
        "### Let's create a simple function that takes a name as input and returns a greeting message.\n",
        "\n"
      ]
    },
    {
      "cell_type": "code",
      "execution_count": 2,
      "id": "aec685ff",
      "metadata": {
        "id": "aec685ff",
        "colab": {
          "base_uri": "https://localhost:8080/",
          "height": 36
        },
        "outputId": "695161fd-5f28-4bc7-af34-97561ad67ec1"
      },
      "outputs": [
        {
          "output_type": "execute_result",
          "data": {
            "text/plain": [
              "'Hello, Professor!'"
            ],
            "application/vnd.google.colaboratory.intrinsic+json": {
              "type": "string"
            }
          },
          "metadata": {},
          "execution_count": 2
        }
      ],
      "source": [
        "# Defining a function in Python\n",
        "def greet(name):\n",
        "    return f\"Hello, {name}!\"\n",
        "\n",
        "# Call the function with an argument\n",
        "greet(\"Professor\")"
      ]
    },
    {
      "cell_type": "markdown",
      "id": "fe1c9016",
      "metadata": {
        "id": "fe1c9016"
      },
      "source": [
        "<a id=\"importing-libraries-and-functions\"></a>\n",
        "\n",
        "\n",
        "## 6. Importing Libraries and Functions\n",
        "\n",
        "In Python, you can import code from other files or libraries. This allows you to reuse functions and classes written elsewhere without rewriting them.\n",
        "\n",
        "### Importing Libraries\n",
        "\n",
        "Let's start by importing a commonly used library: **Pandas**, which is useful for working with data.\n",
        "\n"
      ]
    },
    {
      "cell_type": "code",
      "execution_count": null,
      "id": "de7d5985",
      "metadata": {
        "id": "de7d5985"
      },
      "outputs": [],
      "source": [
        "# Importing the pandas library\n",
        "import pandas as pd\n",
        "\n",
        "# Creating a simple DataFrame using Pandas\n",
        "data = {\n",
        "    'Compound': ['H2O', 'NaCl'],\n",
        "    'Weight': [18.015, 58.44]\n",
        "}\n",
        "df = pd.DataFrame(data)\n",
        "\n",
        "# Display the DataFrame\n",
        "df"
      ]
    },
    {
      "cell_type": "markdown",
      "id": "898c5af0",
      "metadata": {
        "id": "898c5af0"
      },
      "source": [
        "<a id='introduction_to_pandas'>\n",
        "</a>\n",
        "## 7. Introduction to Pandas\n",
        "\n",
        "Pandas is a powerful library for data manipulation and analysis. We can load, view, and manipulate data easily using Pandas.\n",
        "\n",
        "Let's see how we can create and explore data using a DataFrame.\n",
        "\n"
      ]
    },
    {
      "cell_type": "code",
      "execution_count": null,
      "id": "4d9e93d1",
      "metadata": {
        "id": "4d9e93d1"
      },
      "outputs": [],
      "source": [
        "# Creating a DataFrame with some data\n",
        "data = {\n",
        "    'Element': ['Hydrogen', 'Oxygen', 'Carbon'],\n",
        "    'Atomic Number': [1, 8, 6],\n",
        "    'Atomic Weight': [1.008, 15.999, 12.011]\n",
        "}\n",
        "\n",
        "df = pd.DataFrame(data)\n",
        "\n",
        "# Display the DataFrame\n",
        "df"
      ]
    },
    {
      "cell_type": "markdown",
      "id": "2f1324f9",
      "metadata": {
        "id": "2f1324f9"
      },
      "source": [
        "\n",
        "\n",
        "### Selecting Columns and Filtering Data\n",
        "\n",
        "We can use Pandas to select columns or filter rows based on specific conditions.\n",
        "\n",
        "For example, let's select the \"Element\" column and filter elements with an atomic number greater than 6.\n",
        "\n"
      ]
    },
    {
      "cell_type": "code",
      "execution_count": null,
      "id": "1b4c8092",
      "metadata": {
        "id": "1b4c8092"
      },
      "outputs": [],
      "source": [
        "# Selecting the 'Element' column\n",
        "df['Element']\n",
        "\n",
        "# Filtering elements with atomic numbers greater than 6\n",
        "df[df['Atomic Number'] > 6]"
      ]
    },
    {
      "cell_type": "markdown",
      "source": [
        "<a id=\"using-pad-functions\"></a>"
      ],
      "metadata": {
        "id": "muSMZ93YFq3B"
      },
      "id": "muSMZ93YFq3B"
    },
    {
      "cell_type": "markdown",
      "source": [
        "## 8. Reading and Saving CSV Files with Pandas\n",
        "\n",
        "CSV (Comma-Separated Values) files are commonly used to store tabular data. In Pandas, it's easy to read from and save to CSV files.\n",
        "\n",
        "### Reading a CSV File\n",
        "\n",
        "To read a CSV file into a Pandas DataFrame, we use the `pd.read_csv()` function.\n"
      ],
      "metadata": {
        "id": "nM3AEpMFr5jN"
      },
      "id": "nM3AEpMFr5jN"
    },
    {
      "cell_type": "markdown",
      "source": [
        "# first let's get the file example_data.csv fromm the link below and upload to  Google Colab\n",
        "https://github.com/PaperAnalyticalDeviceND/pad-ml-workflow-v2/blob/main/example_data.csv"
      ],
      "metadata": {
        "id": "WrgdrMt0vHny"
      },
      "id": "WrgdrMt0vHny"
    },
    {
      "cell_type": "code",
      "source": [
        "# Let's say we have a CSV file called 'example_data.csv'\n",
        "# Reading the CSV file into a DataFrame\n",
        "df = pd.read_csv('example_data.csv')\n",
        "\n",
        "# Display the first few rows of the DataFrame\n",
        "df.head()\n"
      ],
      "metadata": {
        "id": "5HAO4NrPr60L"
      },
      "id": "5HAO4NrPr60L",
      "execution_count": null,
      "outputs": []
    },
    {
      "cell_type": "markdown",
      "source": [
        "### Explanation:\n",
        "- `pd.read_csv('example_data.csv')`: This reads the CSV file into a DataFrame.\n",
        "- `df.head()`: This displays the first 5 rows of the DataFrame to give us a quick look at the data.\n",
        "\n",
        "You can replace `'example_data.csv'` with the path to any CSV file you want to read.\n"
      ],
      "metadata": {
        "id": "WXvj77f0sAOj"
      },
      "id": "WXvj77f0sAOj"
    },
    {
      "cell_type": "markdown",
      "source": [
        "### Saving a DataFrame to a CSV File\n",
        "\n",
        "Once you've made changes or created a DataFrame in Pandas, you might want to save it back to a CSV file. This can be done using the `df.to_csv()` function.\n",
        "\n",
        "By default, Pandas will save the DataFrame with an index (row numbers), but you can disable this if needed.\n"
      ],
      "metadata": {
        "id": "KweQm3T4sJBr"
      },
      "id": "KweQm3T4sJBr"
    },
    {
      "cell_type": "markdown",
      "source": [
        "Change the content of the second row in the column 'Atomic Number' to 100"
      ],
      "metadata": {
        "id": "TmXGufuEwMNB"
      },
      "id": "TmXGufuEwMNB"
    },
    {
      "cell_type": "code",
      "source": [
        "df.loc[1, 'Atomic Number'] = 100\n",
        "df"
      ],
      "metadata": {
        "id": "0vO_rU_ywGka"
      },
      "id": "0vO_rU_ywGka",
      "execution_count": null,
      "outputs": []
    },
    {
      "cell_type": "code",
      "source": [
        "# Let's save the DataFrame we modified earlier to a new CSV file\n",
        "\n",
        "df.to_csv('saved_data.csv', index=False)\n",
        "\n",
        "# This will save the DataFrame as 'saved_data.csv' in the current working directory\n"
      ],
      "metadata": {
        "id": "4QBzD9MEsD_s"
      },
      "id": "4QBzD9MEsD_s",
      "execution_count": 27,
      "outputs": []
    },
    {
      "cell_type": "markdown",
      "source": [
        "### Explanation:\n",
        "- `df.to_csv('saved_data.csv', index=False)`: This saves the DataFrame to a CSV file called `'saved_data.csv'`.\n",
        "    - `index=False`: This tells Pandas not to save the row numbers (index) to the CSV file.\n"
      ],
      "metadata": {
        "id": "bUzhRs_qsMYi"
      },
      "id": "bUzhRs_qsMYi"
    },
    {
      "cell_type": "markdown",
      "source": [
        "## Next"
      ],
      "metadata": {
        "id": "WkyRsSngEVGb"
      },
      "id": "WkyRsSngEVGb"
    },
    {
      "cell_type": "markdown",
      "id": "ac2d8a34",
      "metadata": {
        "id": "ac2d8a34"
      },
      "source": [
        "\n",
        "In the next notebook, we’ll explore how to use these PAD functions to explore data from PAD projects.\n"
      ]
    }
  ],
  "metadata": {
    "colab": {
      "provenance": []
    },
    "language_info": {
      "name": "python"
    },
    "kernelspec": {
      "name": "python3",
      "display_name": "Python 3"
    }
  },
  "nbformat": 4,
  "nbformat_minor": 5
}