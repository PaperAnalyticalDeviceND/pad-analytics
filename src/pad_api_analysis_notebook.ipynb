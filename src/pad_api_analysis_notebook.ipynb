{
 "cells": [
  {
   "cell_type": "markdown",
   "id": "b0121bf6",
   "metadata": {
    "id": "b0121bf6"
   },
   "source": [
    "# Paper analytical devices (PADs) API\n",
    "## About\n",
    "PADs are test cards that can quickly determine whether a drug tablet contains the correct medicines. They are cheap and easy to use. They don't require power, chemicals, solvents, or any expensive instruments, so they can be deployed rapidly at large scale wherever a problem with pharmaceutical quality is suspected. More information can be found here https://padproject.nd.edu.\n",
    "\n",
    "## The PADS projects provides an API \n",
    "The PAD project provides an API to access previously collected data from PAD cards. \n",
    "\n",
    "To use the API please request an API key from the team. \n",
    "\n",
    "This Jupyter Notebook provides examples of accessing data via the API."
   ]
  },
  {
   "cell_type": "code",
   "execution_count": null,
   "id": "59gqxhYs1y_v",
   "metadata": {
    "colab": {
     "base_uri": "https://localhost:8080/"
    },
    "executionInfo": {
     "elapsed": 715,
     "status": "ok",
     "timestamp": 1655425330351,
     "user": {
      "displayName": "Christopher Sweet",
      "userId": "08592159279681607175"
     },
     "user_tz": 240
    },
    "id": "59gqxhYs1y_v",
    "outputId": "5aea1b56-b698-4d05-ec73-cf8c3c6ecae1"
   },
   "outputs": [],
   "source": [
    "# If you are using Google Colaboratory then run this box and the next one\n",
    "# link Collab to Google Drive\n",
    "from google.colab import drive\n",
    "drive.mount('/content/drive')"
   ]
  },
  {
   "cell_type": "code",
   "execution_count": null,
   "id": "uhSQUCiO186-",
   "metadata": {
    "colab": {
     "base_uri": "https://localhost:8080/"
    },
    "executionInfo": {
     "elapsed": 285,
     "status": "ok",
     "timestamp": 1655425335834,
     "user": {
      "displayName": "Christopher Sweet",
      "userId": "08592159279681607175"
     },
     "user_tz": 240
    },
    "id": "uhSQUCiO186-",
    "outputId": "df0b580e-90de-4b67-d03b-6971e886c112"
   },
   "outputs": [],
   "source": [
    "# Change into our folder so we can access libraries\n",
    "%cd /content/drive/MyDrive/Colab\\ Notebooks/user_api_example\n",
    "!ls -l"
   ]
  },
  {
   "cell_type": "code",
   "execution_count": null,
   "id": "d95043f9",
   "metadata": {
    "executionInfo": {
     "elapsed": 152,
     "status": "ok",
     "timestamp": 1655425340244,
     "user": {
      "displayName": "Christopher Sweet",
      "userId": "08592159279681607175"
     },
     "user_tz": 240
    },
    "id": "d95043f9"
   },
   "outputs": [],
   "source": [
    "# PAD API database query notebook\n",
    "# Chris Sweet 06/15/22\n",
    "# \n",
    "# Inports and defines\n",
    "# importing the helper library\n",
    "import pad_helper\n",
    "\n",
    "# set url for pad server\n",
    "pad_url = 'https://pad.crc.nd.edu/'\n",
    "\n",
    "# you need to ask Chris nicely for an API key\n",
    "API_KEY = '5NWT4K7IS60WMLR3J2LV'"
   ]
  },
  {
   "cell_type": "code",
   "execution_count": null,
   "id": "4c69ec15",
   "metadata": {
    "colab": {
     "base_uri": "https://localhost:8080/"
    },
    "executionInfo": {
     "elapsed": 1319,
     "status": "ok",
     "timestamp": 1655425347442,
     "user": {
      "displayName": "Christopher Sweet",
      "userId": "08592159279681607175"
     },
     "user_tz": 240
    },
    "id": "4c69ec15",
    "outputId": "59f2a76e-3e61-476b-910b-f20f5582baec"
   },
   "outputs": [],
   "source": [
    "# Load the data into pandas if successful\n",
    "import pandas as pd\n",
    "\n",
    "# lets grab some data, in the example we download all records for project \"FHI2022\"\n",
    "my_data = pad_helper.query_pad_database(\"FHI2022\", API_KEY)\n",
    "\n",
    "# check if we were succesful\n",
    "if my_data and 'status' in my_data:\n",
    "    if my_data['status'] == 'ko':\n",
    "        print(\"Error:\", my_data['error_description'])\n",
    "    else:\n",
    "        # if succesful we can create a pandas table\n",
    "        if 'data' in my_data:\n",
    "            df = pd.DataFrame(my_data['data'])\n",
    "            if 'headers' in my_data:\n",
    "                df.columns = my_data['headers']\n",
    "            print(\"Data loaded!\")\n",
    "            #print(my_data)\n",
    "        else:\n",
    "            print(\"Empty query!\")"
   ]
  },
  {
   "cell_type": "code",
   "execution_count": null,
   "id": "df97ed81",
   "metadata": {
    "colab": {
     "base_uri": "https://localhost:8080/",
     "height": 993
    },
    "executionInfo": {
     "elapsed": 168,
     "status": "ok",
     "timestamp": 1655424306538,
     "user": {
      "displayName": "Christopher Sweet",
      "userId": "08592159279681607175"
     },
     "user_tz": 240
    },
    "id": "df97ed81",
    "outputId": "416f1086-0c25-4bb1-8bf1-9147c8c18142"
   },
   "outputs": [],
   "source": [
    "df"
   ]
  },
  {
   "cell_type": "markdown",
   "id": "8eb15ce5",
   "metadata": {
    "id": "8eb15ce5"
   },
   "source": [
    "## PLS example\n",
    "\n",
    "The FHI project uses Partial least squares regression (PLS regression) to try and predict drug concentrations.\n",
    "It uses image segmentation for the data and Works with this R project to generate PLSR coefficients https://github.com/sortijas/PAD . \n",
    "\n",
    "In this example we will download images from the ```FHI2022``` project and calculate their concentrations.\n",
    "\n",
    "The workflow is\n",
    "1. Grab some PLS coefficients. These can be generated by the R program or downloaded from the PADs website.\n",
    "1. Download and loop through the images and run the image segmentation/PLS prediction code."
   ]
  },
  {
   "cell_type": "code",
   "execution_count": null,
   "id": "8de3345c",
   "metadata": {
    "colab": {
     "base_uri": "https://localhost:8080/"
    },
    "executionInfo": {
     "elapsed": 603,
     "status": "ok",
     "timestamp": 1655424311072,
     "user": {
      "displayName": "Christopher Sweet",
      "userId": "08592159279681607175"
     },
     "user_tz": 240
    },
    "id": "8de3345c",
    "outputId": "072eae8e-7657-49d7-c1cd-f266b34041e0"
   },
   "outputs": [],
   "source": [
    "# STAGE 1\n",
    "\n",
    "# Lets calculate some PLS values\n",
    "# first we need some coefficients\n",
    "# If you need some run this to grab from server:\n",
    "pls_url = 'https://pad.crc.nd.edu/neuralnetworks/pls/fhi360_concentration/1.0/pls_fhi360_conc_coefficients.csv'\n",
    "\n",
    "# call helper function\n",
    "if pad_helper.pad_download(pls_url):\n",
    "    print(pls_url, \"downloaded.\")"
   ]
  },
  {
   "cell_type": "code",
   "execution_count": null,
   "id": "8667eba6",
   "metadata": {
    "executionInfo": {
     "elapsed": 3815,
     "status": "ok",
     "timestamp": 1655425354985,
     "user": {
      "displayName": "Christopher Sweet",
      "userId": "08592159279681607175"
     },
     "user_tz": 240
    },
    "id": "8667eba6"
   },
   "outputs": [],
   "source": [
    "# STAGE 2\n",
    "# Create a PLS class instance\n",
    "import pad_analysis\n",
    "\n",
    "# creat pls instance\n",
    "pls_conc = pad_analysis.pls('pls_fhi360_conc_coefficients.csv')"
   ]
  },
  {
   "cell_type": "code",
   "execution_count": null,
   "id": "f5e2f7ce",
   "metadata": {
    "colab": {
     "base_uri": "https://localhost:8080/"
    },
    "executionInfo": {
     "elapsed": 12856,
     "status": "ok",
     "timestamp": 1655425371868,
     "user": {
      "displayName": "Christopher Sweet",
      "userId": "08592159279681607175"
     },
     "user_tz": 240
    },
    "id": "f5e2f7ce",
    "outputId": "0ba23a29-411e-4a4d-ab79-cc90ef0aea6c"
   },
   "outputs": [],
   "source": [
    "# loop over rows and get the first 10 to predict the concentration\n",
    "\n",
    "# define temporary file\n",
    "temp_file = './temp.png'\n",
    "\n",
    "# count the rows so we can break early\n",
    "row_count = 0\n",
    "\n",
    "# for pandas we iterate with iterrows\n",
    "for row in df.iterrows():\n",
    "    \n",
    "    # update counter\n",
    "    row_count += 1\n",
    "\n",
    "    # the data is in the second component of the row for pandas\n",
    "    row_data = row[1]\n",
    "    \n",
    "    # get image location\n",
    "    image_url = pad_url + str(row_data['processed_file_location'])\n",
    "    \n",
    "    # Download it to a temporary file\n",
    "    if not pad_helper.pad_download(image_url, temp_file):\n",
    "        continue\n",
    "\n",
    "    # analyze it\n",
    "    pls_concentration = pls_conc.quantity('./temp.png', row_data['sample_name'])\n",
    "    \n",
    "    # print results\n",
    "    print(\"PAD\", row_data['sample_id'], row[1]['id'], row_data['sample_name'], \"PLS concentration\", \\\n",
    "          \"{:.1f}\".format(pls_concentration), \"%, actual\", row_data['quantity'])\n",
    "    \n",
    "    # break once we have out 10 data points\n",
    "    if row_count >= 10:\n",
    "        break"
   ]
  },
  {
   "cell_type": "markdown",
   "id": "f4d6baf7",
   "metadata": {
    "id": "f4d6baf7"
   },
   "source": [
    "## Neural Network Classification example\n",
    "The PAD project uses neural networks to try and classify drugs.\n",
    "\n",
    "In this example we will download images from the ```FHI2022``` project and predict the drug.\n",
    "\n",
    "The workflow is\n",
    "1. Grab a Neural Network. These weights/graph files can be generated by training or downloaded from the PADs website.\n",
    "1. Download and loop through the images and run the NN to classify."
   ]
  },
  {
   "cell_type": "code",
   "execution_count": null,
   "id": "b1734faf",
   "metadata": {
    "colab": {
     "base_uri": "https://localhost:8080/"
    },
    "executionInfo": {
     "elapsed": 24013,
     "status": "ok",
     "timestamp": 1655425067773,
     "user": {
      "displayName": "Christopher Sweet",
      "userId": "08592159279681607175"
     },
     "user_tz": 240
    },
    "id": "b1734faf",
    "outputId": "fd3963c5-478d-4d8b-d46e-0959643d78fb"
   },
   "outputs": [],
   "source": [
    "# Lets use a Neural Network to catagorize\n",
    "# first we need the NN \n",
    "# If you need one run this to grab from server:\n",
    "nn_url = 'https://pad.crc.nd.edu/neuralnetworks/tf_lite/fhi360_large_454x454_image/1.0/fhi360_large_1_21_454x454_image_v1p1.tflite'\n",
    "\n",
    "# call helper function\n",
    "if pad_helper.pad_download(nn_url):\n",
    "    print(nn_url, \"downloaded.\")"
   ]
  },
  {
   "cell_type": "code",
   "execution_count": null,
   "id": "f964da5d",
   "metadata": {
    "executionInfo": {
     "elapsed": 533,
     "status": "ok",
     "timestamp": 1655425376688,
     "user": {
      "displayName": "Christopher Sweet",
      "userId": "08592159279681607175"
     },
     "user_tz": 240
    },
    "id": "f964da5d"
   },
   "outputs": [],
   "source": [
    "# Create a NN class instance\n",
    "import pad_analysis\n",
    "\n",
    "# creat NN instance\n",
    "cat_nn = pad_analysis.pad_neural_network('fhi360_large_1_21_454x454_image_v1p1.tflite')"
   ]
  },
  {
   "cell_type": "code",
   "execution_count": null,
   "id": "f2d0ed44",
   "metadata": {
    "colab": {
     "base_uri": "https://localhost:8080/"
    },
    "executionInfo": {
     "elapsed": 6849,
     "status": "ok",
     "timestamp": 1655425387042,
     "user": {
      "displayName": "Christopher Sweet",
      "userId": "08592159279681607175"
     },
     "user_tz": 240
    },
    "id": "f2d0ed44",
    "outputId": "96e81aa7-bf20-48db-8d3c-711f38c00058"
   },
   "outputs": [],
   "source": [
    "# loop over rows and get the first 10 to classify the drug\n",
    "\n",
    "# define temporary file\n",
    "temp_file = './temp.png'\n",
    "\n",
    "# count the rows so we can break early\n",
    "row_count = 0\n",
    "\n",
    "# for pandas we iterate with iterrows\n",
    "for row in df.iterrows():\n",
    "    \n",
    "    # update counter\n",
    "    row_count += 1\n",
    "\n",
    "    # the data is in the second component of the row for pandas\n",
    "    row_data = row[1]\n",
    "    \n",
    "    # get image location\n",
    "    image_url = pad_url + str(row_data['processed_file_location'])\n",
    "    \n",
    "    # Download it to a temporary file\n",
    "    if not pad_helper.pad_download(image_url, temp_file):\n",
    "        continue\n",
    "\n",
    "    # analyze it\n",
    "    pred_drug, conf = cat_nn.catagorize('./temp.png')\n",
    "    \n",
    "    # print results, last column tells us if the classification was correct\n",
    "    print(\"PAD\", row_data['sample_id'], row_data['id'], row_data['sample_name'], \"NN classification\", \\\n",
    "          pred_drug, \"NN confidence\", \"{:.2f}\".format(conf), row_data['sample_name']==pred_drug)\n",
    "    \n",
    "    # break once we have out 10 data points\n",
    "    if row_count >= 10:\n",
    "        break"
   ]
  },
  {
   "cell_type": "code",
   "execution_count": null,
   "id": "498555a3",
   "metadata": {
    "id": "498555a3"
   },
   "outputs": [],
   "source": []
  }
 ],
 "metadata": {
  "colab": {
   "collapsed_sections": [],
   "name": "pad_api_analysis_notebook.ipynb",
   "provenance": []
  },
  "kernelspec": {
   "display_name": "Python 3 (ipykernel)",
   "language": "python",
   "name": "python3"
  },
  "language_info": {
   "codemirror_mode": {
    "name": "ipython",
    "version": 3
   },
   "file_extension": ".py",
   "mimetype": "text/x-python",
   "name": "python",
   "nbconvert_exporter": "python",
   "pygments_lexer": "ipython3",
   "version": "3.10.10"
  }
 },
 "nbformat": 4,
 "nbformat_minor": 5
}
